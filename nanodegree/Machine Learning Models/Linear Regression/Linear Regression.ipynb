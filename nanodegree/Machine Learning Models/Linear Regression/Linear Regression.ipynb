{
 "cells": [
  {
   "cell_type": "code",
   "execution_count": 1,
   "metadata": {},
   "outputs": [
    {
     "name": "stderr",
     "output_type": "stream",
     "text": [
      "/anaconda2/lib/python2.7/site-packages/h5py/__init__.py:36: FutureWarning: Conversion of the second argument of issubdtype from `float` to `np.floating` is deprecated. In future, it will be treated as `np.float64 == np.dtype(float).type`.\n",
      "  from ._conv import register_converters as _register_converters\n"
     ]
    }
   ],
   "source": [
    "import tensorflow as tf\n",
    "import numpy as np\n",
    "import matplotlib.pyplot as plt\n",
    "rng = np.random"
   ]
  },
  {
   "cell_type": "code",
   "execution_count": 11,
   "metadata": {},
   "outputs": [],
   "source": [
    "#Paramters\n",
    "learning_rate = 0.01\n",
    "training_epochs = 1000\n",
    "display_step = 50"
   ]
  },
  {
   "cell_type": "code",
   "execution_count": 4,
   "metadata": {},
   "outputs": [],
   "source": [
    "#Train Data\n",
    "train_X = np.asarray([3.3,4.4,5.5,6.71,6.93,4.168,9.779,6.182,7.59,2.167,7.042,10.791,5.313,7.997,5.654,9.27,3.1])\n",
    "\n",
    "train_Y = np.asarray([1.7,2.76,2.09,3.19,1.694,1.573,3.366,2.596,2.53,1.221,2.827,3.465,1.65,2.904,2.42,2.94,1.3])\n",
    "n_samples = train_X.shape[0]"
   ]
  },
  {
   "cell_type": "code",
   "execution_count": 5,
   "metadata": {},
   "outputs": [],
   "source": [
    "#Graph input\n",
    "X = tf.placeholder(\"float\")\n",
    "Y = tf.placeholder(\"float\")\n",
    "\n",
    "#Set model weight\n",
    "W = tf.Variable(rng.randn(), name = \"weight\")\n",
    "b = tf.Variable(rng.randn(), name = \"bias\")"
   ]
  },
  {
   "cell_type": "code",
   "execution_count": 6,
   "metadata": {},
   "outputs": [],
   "source": [
    "#Construct Linear Model\n",
    "pred = tf.add(tf.multiply(X, W), b)"
   ]
  },
  {
   "cell_type": "code",
   "execution_count": 8,
   "metadata": {},
   "outputs": [],
   "source": [
    "#MSE\n",
    "cost = tf.reduce_sum(tf.pow(pred-Y, 2))/(2*n_samples)\n",
    "#Gradient Descent\n",
    "optimizer = tf.train.GradientDescentOptimizer(learning_rate).minimize(cost)"
   ]
  },
  {
   "cell_type": "code",
   "execution_count": 9,
   "metadata": {},
   "outputs": [],
   "source": [
    "#Initialize the Variables\n",
    "init = tf.global_variables_initializer()"
   ]
  },
  {
   "cell_type": "code",
   "execution_count": 15,
   "metadata": {},
   "outputs": [
    {
     "name": "stdout",
     "output_type": "stream",
     "text": [
      "Epoch: 0050 cost= 0.201587975 W= 0.4469525 b= -0.6183195\n",
      "Epoch: 0100 cost= 0.187191471 W= 0.4352147 b= -0.5338784\n",
      "Epoch: 0150 cost= 0.174457446 W= 0.4241749 b= -0.45445877\n",
      "Epoch: 0200 cost= 0.163194060 W= 0.41379172 b= -0.3797632\n",
      "Epoch: 0250 cost= 0.153231442 W= 0.40402615 b= -0.30951\n",
      "Epoch: 0300 cost= 0.144419461 W= 0.39484125 b= -0.24343488\n",
      "Epoch: 0350 cost= 0.136625186 W= 0.3862027 b= -0.18128939\n",
      "Epoch: 0400 cost= 0.129731253 W= 0.37807786 b= -0.12284018\n",
      "Epoch: 0450 cost= 0.123633623 W= 0.3704363 b= -0.0678673\n",
      "Epoch: 0500 cost= 0.118240386 W= 0.36324918 b= -0.01616387\n",
      "Epoch: 0550 cost= 0.113470167 W= 0.35648957 b= 0.032464474\n",
      "Epoch: 0600 cost= 0.109251089 W= 0.35013202 b= 0.07820061\n",
      "Epoch: 0650 cost= 0.105519459 W= 0.34415248 b= 0.12121664\n",
      "Epoch: 0700 cost= 0.102218986 W= 0.33852854 b= 0.16167456\n",
      "Epoch: 0750 cost= 0.099299930 W= 0.3332392 b= 0.19972584\n",
      "Epoch: 0800 cost= 0.096718207 W= 0.32826445 b= 0.23551406\n",
      "Epoch: 0850 cost= 0.094434857 W= 0.32358545 b= 0.26917407\n",
      "Epoch: 0900 cost= 0.092415407 W= 0.3191848 b= 0.30083203\n",
      "Epoch: 0950 cost= 0.090629414 W= 0.3150459 b= 0.33060718\n",
      "Epoch: 1000 cost= 0.089049898 W= 0.3111532 b= 0.35861108\n",
      "Optimization Finished\n",
      "Training Cost= 0.0890499 W= 0.3111532 b= 0.35861108 \n",
      "\n"
     ]
    },
    {
     "data": {
      "image/png": "[encoded data removed]",
      "text/plain": [
       "<Figure size 432x288 with 1 Axes>"
      ]
     },
     "metadata": {},
     "output_type": "display_data"
    }
   ],
   "source": [
    "#Start training\n",
    "with tf.Session() as sess:\n",
    "    sess.run(init)\n",
    "    \n",
    "    #Fit all training datasets\n",
    "    for epoch in range(training_epochs):\n",
    "        for(x, y) in zip(train_X, train_Y):\n",
    "            sess.run(optimizer, feed_dict = {X : x, Y : y})\n",
    "            \n",
    "        #Display logs per epoch step\n",
    "        if (epoch+1) % display_step == 0:\n",
    "            c = sess.run(cost, feed_dict={X : train_X, Y : train_Y})\n",
    "            print \"Epoch:\", \"%04d\" % (epoch+1), \"cost=\", \"{:.9f}\".format(c), \\\n",
    "                \"W=\", sess.run(W), \"b=\", sess.run(b)\n",
    "    print \"Optimization Finished\"\n",
    "    training_cost = sess.run(cost, feed_dict = {X : train_X, Y : train_Y})\n",
    "    print \"Training Cost=\", training_cost, \"W=\", sess.run(W), \"b=\", sess.run(b), '\\n'\n",
    "    \n",
    "    #Graphic Display\n",
    "    plt.plot(train_X, train_Y, 'ro', label = 'Original Data')\n",
    "    plt.plot(train_X, sess.run(W) * train_X + sess.run(b), label = 'Fitted line')\n",
    "    plt.legend()\n",
    "    plt.show()"
   ]
  },
  {
   "cell_type": "code",
   "execution_count": 13,
   "metadata": {},
   "outputs": [],
   "source": [
    "#Regression"
   ]
  },
  {
   "cell_type": "code",
   "execution_count": null,
   "metadata": {},
   "outputs": [],
   "source": []
  }
 ],
 "metadata": {
  "kernelspec": {
   "display_name": "Python 2",
   "language": "python",
   "name": "python2"
  },
  "language_info": {
   "codemirror_mode": {
    "name": "ipython",
    "version": 2
   },
   "file_extension": ".py",
   "mimetype": "text/x-python",
   "name": "python",
   "nbconvert_exporter": "python",
   "pygments_lexer": "ipython2",
   "version": "2.7.15"
  }
 },
 "nbformat": 4,
 "nbformat_minor": 2
}
