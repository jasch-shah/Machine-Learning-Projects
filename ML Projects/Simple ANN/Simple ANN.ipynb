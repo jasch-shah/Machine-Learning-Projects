{
 "cells": [
  {
   "cell_type": "code",
   "execution_count": 1,
   "metadata": {},
   "outputs": [],
   "source": [
    "# This is my code for 100DayofCode Challenge by Siraj Raval\n",
    "import pandas as pd\n",
    "import numpy as np\n",
    "\n"
   ]
  },
  {
   "cell_type": "code",
   "execution_count": 2,
   "metadata": {},
   "outputs": [],
   "source": [
    "class SimpleNeuralNetwork(object):\n",
    "    def __init__(self):\n",
    "        np.random.seed(1)  # It is used to generate random numbers\n",
    "        self.synaptic_weight = [] #Input weight matrix\n",
    "        \n",
    "    def __sigmoid(self, x, deriv = False):\n",
    "        if deriv == True:\n",
    "            return x * (1-x)  #Derivative form of sigmoid function\n",
    "        return 1 / (1 + np.exp(-x))\n",
    "    def predict(self, x):\n",
    "        predicted = np.dot(x, self.synaptic_weight)\n",
    "        return self.__sigmoid(predicted)\n",
    "    \n",
    "    def train(self, file, X, y, iterations):\n",
    "        dim = file.shape\n",
    "        # Return dimensions  of file\n",
    "        self.synaptic_weight = 2 * np.random.random((dim[1] - 1, 1)) - 1\n",
    "        \n",
    "        \n",
    "        for i in range(iterations):\n",
    "            output = self.predict(X)\n",
    "            error = y - output\n",
    "            \n",
    "            adjustment = np.dot(X.T, error*self.__sigmoid(output, deriv = True))\n",
    "            self.synaptic_weight += adjustment"
   ]
  },
  {
   "cell_type": "code",
   "execution_count": 4,
   "metadata": {},
   "outputs": [
    {
     "data": {
      "text/html": [
       "<div>\n",
       "<style scoped>\n",
       "    .dataframe tbody tr th:only-of-type {\n",
       "        vertical-align: middle;\n",
       "    }\n",
       "\n",
       "    .dataframe tbody tr th {\n",
       "        vertical-align: top;\n",
       "    }\n",
       "\n",
       "    .dataframe thead th {\n",
       "        text-align: right;\n",
       "    }\n",
       "</style>\n",
       "<table border=\"1\" class=\"dataframe\">\n",
       "  <thead>\n",
       "    <tr style=\"text-align: right;\">\n",
       "      <th></th>\n",
       "      <th>a</th>\n",
       "      <th>b</th>\n",
       "      <th>c</th>\n",
       "      <th>d</th>\n",
       "      <th>label</th>\n",
       "    </tr>\n",
       "  </thead>\n",
       "  <tbody>\n",
       "    <tr>\n",
       "      <th>0</th>\n",
       "      <td>0</td>\n",
       "      <td>0</td>\n",
       "      <td>0</td>\n",
       "      <td>1</td>\n",
       "      <td>1</td>\n",
       "    </tr>\n",
       "    <tr>\n",
       "      <th>1</th>\n",
       "      <td>0</td>\n",
       "      <td>1</td>\n",
       "      <td>0</td>\n",
       "      <td>0</td>\n",
       "      <td>0</td>\n",
       "    </tr>\n",
       "    <tr>\n",
       "      <th>2</th>\n",
       "      <td>1</td>\n",
       "      <td>0</td>\n",
       "      <td>0</td>\n",
       "      <td>1</td>\n",
       "      <td>0</td>\n",
       "    </tr>\n",
       "    <tr>\n",
       "      <th>3</th>\n",
       "      <td>1</td>\n",
       "      <td>1</td>\n",
       "      <td>1</td>\n",
       "      <td>0</td>\n",
       "      <td>1</td>\n",
       "    </tr>\n",
       "    <tr>\n",
       "      <th>4</th>\n",
       "      <td>0</td>\n",
       "      <td>0</td>\n",
       "      <td>1</td>\n",
       "      <td>0</td>\n",
       "      <td>1</td>\n",
       "    </tr>\n",
       "  </tbody>\n",
       "</table>\n",
       "</div>"
      ],
      "text/plain": [
       "   a  b  c  d  label\n",
       "0  0  0  0  1      1\n",
       "1  0  1  0  0      0\n",
       "2  1  0  0  1      0\n",
       "3  1  1  1  0      1\n",
       "4  0  0  1  0      1"
      ]
     },
     "execution_count": 4,
     "metadata": {},
     "output_type": "execute_result"
    }
   ],
   "source": [
    "# Data Preparations\n",
    "data = pd.read_csv(\"file.csv\")\n",
    "data.head()"
   ]
  },
  {
   "cell_type": "code",
   "execution_count": 5,
   "metadata": {},
   "outputs": [],
   "source": [
    "X = data.iloc[:, 0:4].values  #features\n",
    "y = data.iloc[:, [4]].values  #labels\n",
    "\n",
    "number_of_iterations = 6000\n",
    "clf = SimpleNeuralNetwork()"
   ]
  },
  {
   "cell_type": "code",
   "execution_count": 6,
   "metadata": {},
   "outputs": [],
   "source": [
    "clf.train(data, X, y, number_of_iterations)"
   ]
  },
  {
   "cell_type": "code",
   "execution_count": 7,
   "metadata": {},
   "outputs": [
    {
     "name": "stdout",
     "output_type": "stream",
     "text": [
      "('Prediction:', 1)\n"
     ]
    }
   ],
   "source": [
    "predictions = np.array([0,1,1,0])\n",
    "res = clf.predict(predictions)[0]\n",
    "\n",
    "# Threshold value check\n",
    "if res >= 0.5:\n",
    "    print(\"Prediction:\", 1)\n",
    "else:\n",
    "    print(\"Prediction:\", 0)"
   ]
  },
  {
   "cell_type": "code",
   "execution_count": null,
   "metadata": {},
   "outputs": [],
   "source": []
  }
 ],
 "metadata": {
  "kernelspec": {
   "display_name": "Python 2",
   "language": "python",
   "name": "python2"
  },
  "language_info": {
   "codemirror_mode": {
    "name": "ipython",
    "version": 2
   },
   "file_extension": ".py",
   "mimetype": "text/x-python",
   "name": "python",
   "nbconvert_exporter": "python",
   "pygments_lexer": "ipython2",
   "version": "2.7.15"
  }
 },
 "nbformat": 4,
 "nbformat_minor": 2
}
