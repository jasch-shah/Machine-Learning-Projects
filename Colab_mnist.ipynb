{
  "nbformat": 4,
  "nbformat_minor": 0,
  "metadata": {
    "colab": {
      "name": "Colab_mnist.ipynb",
      "version": "0.3.2",
      "provenance": [],
      "include_colab_link": true
    },
    "kernelspec": {
      "name": "python3",
      "display_name": "Python 3"
    }
  },
  "cells": [
    {
      "cell_type": "markdown",
      "metadata": {
        "id": "view-in-github",
        "colab_type": "text"
      },
      "source": [
        "<a href=\"https://colab.research.google.com/github/jasch-shah/Machine-Learning-Projects/blob/master/Colab_mnist.ipynb\" target=\"_parent\"><img src=\"https://colab.research.google.com/assets/colab-badge.svg\" alt=\"Open In Colab\"/></a>"
      ]
    },
    {
      "metadata": {
        "id": "OH1PzblI1UDU",
        "colab_type": "code",
        "colab": {}
      },
      "cell_type": "code",
      "source": [
        "import numpy as np\n"
      ],
      "execution_count": 0,
      "outputs": []
    },
    {
      "metadata": {
        "id": "Nvg3wFB41WtZ",
        "colab_type": "code",
        "colab": {}
      },
      "cell_type": "code",
      "source": [
        "x = 3\n"
      ],
      "execution_count": 0,
      "outputs": []
    },
    {
      "metadata": {
        "id": "q3fnkseT1bR2",
        "colab_type": "code",
        "colab": {
          "base_uri": "https://localhost:8080/",
          "height": 34
        },
        "outputId": "f33a1110-9b3e-4a66-851e-8a143e13d27f"
      },
      "cell_type": "code",
      "source": [
        "print(type(x)) #  print class type"
      ],
      "execution_count": 3,
      "outputs": [
        {
          "output_type": "stream",
          "text": [
            "<class 'int'>\n"
          ],
          "name": "stdout"
        }
      ]
    },
    {
      "metadata": {
        "id": "DggY7f5u1hnU",
        "colab_type": "code",
        "colab": {
          "base_uri": "https://localhost:8080/",
          "height": 34
        },
        "outputId": "907c8ff7-1342-49fc-eaa9-45df435194ff"
      },
      "cell_type": "code",
      "source": [
        "print(x)"
      ],
      "execution_count": 4,
      "outputs": [
        {
          "output_type": "stream",
          "text": [
            "3\n"
          ],
          "name": "stdout"
        }
      ]
    },
    {
      "metadata": {
        "id": "tXjxHbEa1jaD",
        "colab_type": "code",
        "colab": {
          "base_uri": "https://localhost:8080/",
          "height": 34
        },
        "outputId": "f7ea52d5-1a3c-41bc-dadc-9663c0dd415d"
      },
      "cell_type": "code",
      "source": [
        "print(x+1)"
      ],
      "execution_count": 5,
      "outputs": [
        {
          "output_type": "stream",
          "text": [
            "4\n"
          ],
          "name": "stdout"
        }
      ]
    },
    {
      "metadata": {
        "id": "5lvZF2Ja1l1D",
        "colab_type": "code",
        "colab": {}
      },
      "cell_type": "code",
      "source": [
        "from google.colab import drive\n"
      ],
      "execution_count": 0,
      "outputs": []
    },
    {
      "metadata": {
        "id": "gEA2nmrz1rRd",
        "colab_type": "code",
        "colab": {
          "base_uri": "https://localhost:8080/",
          "height": 34
        },
        "outputId": "07bec918-34dc-4a09-fad0-96915cb7031d"
      },
      "cell_type": "code",
      "source": [
        "drive.mount('/content/drive')"
      ],
      "execution_count": 8,
      "outputs": [
        {
          "output_type": "stream",
          "text": [
            "Drive already mounted at /content/drive; to attempt to forcibly remount, call drive.mount(\"/content/drive\", force_remount=True).\n"
          ],
          "name": "stdout"
        }
      ]
    },
    {
      "metadata": {
        "id": "cSNTSRHo1vxL",
        "colab_type": "code",
        "colab": {
          "base_uri": "https://localhost:8080/",
          "height": 337
        },
        "outputId": "30f5a102-f0cc-4d57-d0e2-495bfb63ff8b"
      },
      "cell_type": "code",
      "source": [
        "!ls \"/content/drive/My Drive/\""
      ],
      "execution_count": 9,
      "outputs": [
        {
          "output_type": "stream",
          "text": [
            "'21 - The One with the Bullies.mkv'\t\t  H132116JashShah_X\n",
            " 347\t\t\t\t\t\t  macbook\n",
            " 71614664KJashShahFE2\t\t\t\t  Movies\n",
            " 71614664KJashShah_FE2.pdf\t\t\t 'New Doc 2018-10-05.jpg'\n",
            " 71614664KJashShahSE2\t\t\t\t  Oop\n",
            " 9M6NAZSUH9.nagpur_pune_GOBUSANDba37067a52.pdf\t  prosafe.apk\n",
            " Archive.zip\t\t\t\t\t  resume.pdf\n",
            "'BE Project Details_2018-19 (Recovered).gsheet'   sec.cpp\n",
            " BINARY.cpp\t\t\t\t\t  Softwares\n",
            " Books\t\t\t\t\t\t  tensorflow_android_mnist.apk\n",
            "'Colab Notebooks'\t\t\t\t 'T-Shirt Sign Up.gform'\n",
            "'Dsa 347'\t\t\t\t\t 'Untitled map (1).gmap'\n",
            " Fitness.zip\t\t\t\t\t 'Untitled map.gmap'\n",
            "'frapp-resume-2 (1).pdf'\t\t\t 'V031601Jash_Shah_X||'\n",
            " frapp-resume-2.pdf\t\t\t\t  wt_sofcopies.zip\n",
            "'Gita Pravachan Hindi_secured.pdf'\t\t  WT.zip\n",
            "'Goa trip'\n"
          ],
          "name": "stdout"
        }
      ]
    },
    {
      "metadata": {
        "id": "OWXxxD722EX5",
        "colab_type": "code",
        "colab": {}
      },
      "cell_type": "code",
      "source": [
        "!pip install -q keras"
      ],
      "execution_count": 0,
      "outputs": []
    },
    {
      "metadata": {
        "id": "63NrULo02J_7",
        "colab_type": "code",
        "colab": {
          "base_uri": "https://localhost:8080/",
          "height": 609
        },
        "outputId": "c59bf532-6dbb-4608-8d34-8cc970131d6d"
      },
      "cell_type": "code",
      "source": [
        "!python3 \"/content/drive/My Drive/mnist_cnn.py\""
      ],
      "execution_count": 14,
      "outputs": [
        {
          "output_type": "stream",
          "text": [
            "Using TensorFlow backend.\n",
            "Downloading data from https://s3.amazonaws.com/img-datasets/mnist.npz\n",
            "11493376/11490434 [==============================] - 0s 0us/step\n",
            "x_train shape: (60000, 28, 28, 1)\n",
            "60000 train samples\n",
            "10000 test samples\n",
            "Train on 60000 samples, validate on 10000 samples\n",
            "Epoch 1/12\n",
            "60000/60000 [==============================] - 176s 3ms/step - loss: 0.2706 - acc: 0.9164 - val_loss: 0.0581 - val_acc: 0.9814\n",
            "Epoch 2/12\n",
            "60000/60000 [==============================] - 175s 3ms/step - loss: 0.0876 - acc: 0.9740 - val_loss: 0.0393 - val_acc: 0.9874\n",
            "Epoch 3/12\n",
            "60000/60000 [==============================] - 173s 3ms/step - loss: 0.0661 - acc: 0.9797 - val_loss: 0.0365 - val_acc: 0.9878\n",
            "Epoch 4/12\n",
            "60000/60000 [==============================] - 174s 3ms/step - loss: 0.0520 - acc: 0.9841 - val_loss: 0.0357 - val_acc: 0.9883\n",
            "Epoch 5/12\n",
            "60000/60000 [==============================] - 173s 3ms/step - loss: 0.0462 - acc: 0.9856 - val_loss: 0.0352 - val_acc: 0.9885\n",
            "Epoch 6/12\n",
            "60000/60000 [==============================] - 174s 3ms/step - loss: 0.0409 - acc: 0.9874 - val_loss: 0.0293 - val_acc: 0.9897\n",
            "Epoch 7/12\n",
            "60000/60000 [==============================] - 173s 3ms/step - loss: 0.0375 - acc: 0.9887 - val_loss: 0.0314 - val_acc: 0.9905\n",
            "Epoch 8/12\n",
            "60000/60000 [==============================] - 174s 3ms/step - loss: 0.0343 - acc: 0.9895 - val_loss: 0.0326 - val_acc: 0.9896\n",
            "Epoch 9/12\n",
            "60000/60000 [==============================] - 174s 3ms/step - loss: 0.0302 - acc: 0.9908 - val_loss: 0.0304 - val_acc: 0.9906\n",
            "Epoch 10/12\n",
            "60000/60000 [==============================] - 171s 3ms/step - loss: 0.0277 - acc: 0.9916 - val_loss: 0.0318 - val_acc: 0.9907\n",
            "Epoch 11/12\n",
            "60000/60000 [==============================] - 173s 3ms/step - loss: 0.0270 - acc: 0.9918 - val_loss: 0.0313 - val_acc: 0.9916\n",
            "Epoch 12/12\n",
            "60000/60000 [==============================] - 173s 3ms/step - loss: 0.0252 - acc: 0.9928 - val_loss: 0.0300 - val_acc: 0.9904\n",
            "Test loss: 0.03003316851007812\n",
            "Test accuracy: 0.9904\n"
          ],
          "name": "stdout"
        }
      ]
    },
    {
      "metadata": {
        "id": "4-4VEBU62uIe",
        "colab_type": "code",
        "colab": {}
      },
      "cell_type": "code",
      "source": [
        ""
      ],
      "execution_count": 0,
      "outputs": []
    }
  ]
}